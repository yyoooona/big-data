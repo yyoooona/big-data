{
 "cells": [
  {
   "cell_type": "markdown",
   "metadata": {},
   "source": [
    "1. 이메일에 lee를 포함하는 사원의 모든 정보를 출력하세요."
   ]
  },
  {
   "cell_type": "code",
   "execution_count": null,
   "metadata": {},
   "outputs": [],
   "source": []
  },
  {
   "cell_type": "markdown",
   "metadata": {},
   "source": [
    "2. 매니저 아이디가 103인 사원들의 이름과 급여, 직무아이디를 출력하세요."
   ]
  },
  {
   "cell_type": "code",
   "execution_count": null,
   "metadata": {},
   "outputs": [],
   "source": []
  },
  {
   "cell_type": "markdown",
   "metadata": {},
   "source": [
    "3. 80번 부서에 근무하면서 직무가 SA_MAN인 사원의 정보와 20번 부서에 근무하면서 매니저 아이디가 100인사원의 정보를 출력하세요. 쿼리문 하나로 출력해야 합니다."
   ]
  },
  {
   "cell_type": "code",
   "execution_count": null,
   "metadata": {},
   "outputs": [],
   "source": []
  },
  {
   "cell_type": "markdown",
   "metadata": {},
   "source": [
    "4. 모든 사원의 전화번호를 ###.###.#### 이라면 ###-###-#### 형식으로 출력하세요."
   ]
  },
  {
   "cell_type": "code",
   "execution_count": null,
   "metadata": {},
   "outputs": [],
   "source": []
  },
  {
   "cell_type": "markdown",
   "metadata": {},
   "source": [
    "5. 직무가 IT_PROG인 사원들 중에서 급여가 5000 이상인 사원들의 이름(Full Name), 급여 지급액, 입사일(2005-02-15형식), 근무한 일수를 출력하세요. 이름순으로 정렬하며, 이름은 최대 20자리, 남는 자리는 *로 채우고 급여 지급액은 소수점 2자리를 포함한 최대 8자리, $표시, 남는 자리는 0으로 채워 출력하세요."
   ]
  },
  {
   "cell_type": "code",
   "execution_count": null,
   "metadata": {},
   "outputs": [],
   "source": []
  },
  {
   "cell_type": "markdown",
   "metadata": {},
   "source": [
    "6. 30번부서 사원의 이름(full name)과 급여, 입사일, 현재 까지 근무 개월 수를 출력하세요. 이름은 최대 20자로출력하고 이름 오른쪽에 남는 공백을 *로 출력하세요. 급여는 상여금을 포함하고 소수점 2자리를 포함한 총8자리로 출력하고 남은 자리는 0으로 채우며 세자리 마다 ,(콤마) 구분기호를 포함하고, 금액 앞에 $를 포함하도록 출력하세요. 입사일은 2005년03월15일 형식으로 출력하세요. 근무 개월 수는 소수점 이하는 버리고 출력하세요. 급여가 큰 사원부터 작은 순서로 출력하세요."
   ]
  },
  {
   "cell_type": "code",
   "execution_count": null,
   "metadata": {},
   "outputs": [],
   "source": []
  },
  {
   "cell_type": "markdown",
   "metadata": {},
   "source": [
    "7. 80번 부서에 근무하면서 salary가 10000보다 큰 사원들의 이름과 급여 지급액(salary+salary*commission_pct)을 출력하세요. 이름은 Full Name으로 출력하며 17자리로 출력하세요. 남은 자리는 *로 채우세요. 급여는 소수점 2자리를 포함한 총7자리로 출력하며, 남은 자리는 0으로 채우세요. 금액 앞에 $ 표시를 하며 급여 순으로 정렬하세요."
   ]
  },
  {
   "cell_type": "code",
   "execution_count": null,
   "metadata": {},
   "outputs": [],
   "source": []
  },
  {
   "cell_type": "markdown",
   "metadata": {},
   "source": [
    "8. 60번부서 사원의 이름과 근무 년수를 입사일을 현재 일자를 기준으로 현재까지 근무한 근무년수를 5년차, 10년차, 15년차로 표시하세요. 5년~ 9년 근무한 사원은 5년차로 표시합니다. 나머지는 기타로 표시합니다. 근무년수는 근무개월수/12로 계산합니다.("
   ]
  },
  {
   "cell_type": "code",
   "execution_count": null,
   "metadata": {},
   "outputs": [],
   "source": []
  },
  {
   "cell_type": "markdown",
   "metadata": {},
   "source": [
    "9. Lex가 입사한지 1000일째 되는 날은? "
   ]
  },
  {
   "cell_type": "code",
   "execution_count": null,
   "metadata": {},
   "outputs": [],
   "source": []
  },
  {
   "cell_type": "markdown",
   "metadata": {},
   "source": [
    "10. 5월에 입사한 사원의 이름과 입사일을 출력하세요."
   ]
  },
  {
   "cell_type": "code",
   "execution_count": null,
   "metadata": {},
   "outputs": [],
   "source": []
  }
 ],
 "metadata": {
  "kernelspec": {
   "display_name": "Python 3",
   "language": "python",
   "name": "python3"
  },
  "language_info": {
   "codemirror_mode": {
    "name": "ipython",
    "version": 3
   },
   "file_extension": ".py",
   "mimetype": "text/x-python",
   "name": "python",
   "nbconvert_exporter": "python",
   "pygments_lexer": "ipython3",
   "version": "3.7.6"
  }
 },
 "nbformat": 4,
 "nbformat_minor": 4
}
